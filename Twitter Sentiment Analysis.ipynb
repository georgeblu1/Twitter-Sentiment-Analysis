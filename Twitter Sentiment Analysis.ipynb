{
 "cells": [
  {
   "cell_type": "code",
   "execution_count": 10,
   "metadata": {},
   "outputs": [],
   "source": [
    "import tweepy\n",
    "from textblob import TextBlob"
   ]
  },
  {
   "cell_type": "code",
   "execution_count": 11,
   "metadata": {},
   "outputs": [],
   "source": [
    "consumer_key = 'YLjzGaQI2hxoc7DDJgjGvU9HI'\n",
    "consumer_secret = 'IBSk9OJ1xAbbvZNskTEzCQQo54vn4ZAXdSlCDUzJvIikA9eJFa'"
   ]
  },
  {
   "cell_type": "code",
   "execution_count": 12,
   "metadata": {},
   "outputs": [],
   "source": [
    "access_token = '4916224998-ok7AKxv9DkEk0znRRHZdqpYecr2Hmg6vEvA0nS8'\n",
    "access_token_secret = 'MphpbUo4OJofPl6LJOYhTr3jT17yCyetCGIZTLc4qeMLT'"
   ]
  },
  {
   "cell_type": "code",
   "execution_count": 13,
   "metadata": {},
   "outputs": [],
   "source": [
    "auth = tweepy.OAuthHandler(consumer_key, consumer_secret)\n",
    "auth.set_access_token(access_token, access_token_secret)"
   ]
  },
  {
   "cell_type": "code",
   "execution_count": 14,
   "metadata": {},
   "outputs": [],
   "source": [
    "api = tweepy.API(auth)"
   ]
  },
  {
   "cell_type": "code",
   "execution_count": 16,
   "metadata": {},
   "outputs": [],
   "source": [
    "public_tweets = api.search('Najib Razak')\n"
   ]
  },
  {
   "cell_type": "code",
   "execution_count": 26,
   "metadata": {
    "scrolled": true
   },
   "outputs": [
    {
     "name": "stdout",
     "output_type": "stream",
     "text": [
      "@FutballTweets Najib razak. Malaysia\n",
      "Sentiment(polarity=0.0, subjectivity=0.2)\n",
      "RT @NajibRazak: Najib Razak: Malaysia's Political Survivor. Watch the full Interview between Prime Minister Dato' Sri Najib Razak and Bloom…\n",
      "Sentiment(polarity=0.0, subjectivity=0.0)\n",
      "Hasil carian sy, Wikipedia &amp; laman akhbar dlm &amp; luar negara ada sebut Skandal Wang Polimer &amp; PM Malaysia (Ahmad Bad… https://t.co/zB4bLdZdEr\n",
      "Sentiment(polarity=0.175, subjectivity=0.325)\n",
      "RT @BarnaBing: Malaysia still got brainless citizen ? support corrupt government najib razak and BN party ! Support BN, umno, and Pas that…\n",
      "Sentiment(polarity=0.0, subjectivity=0.0)\n",
      "Malaysia still got brainless citizen ? support corrupt government najib razak and BN party ! Support BN, umno, and… https://t.co/vQGcybWJZQ\n",
      "Sentiment(polarity=-0.625, subjectivity=1.0)\n",
      "RT @NajibRazak: Najib Razak: Malaysia's Political Survivor. Watch the full Interview between Prime Minister Dato' Sri Najib Razak and Bloom…\n",
      "Sentiment(polarity=-0.625, subjectivity=1.0)\n",
      "Perdana Menteri Datuk Seri Najib Tun Razak hari menzahirkan komitmen untuk terus memperkasakan sektor pertanian ter… https://t.co/BrOnFKx3Qy\n",
      "Sentiment(polarity=0.175, subjectivity=0.325)\n",
      "RT @BalqisSidiqia: Who is arguably the best Malaysia's Prime minister in history so far?\n",
      "\n",
      "RT for Mahathir Mohamad \n",
      "❤ for Najib Razak https:…\n",
      "Sentiment(polarity=0.0, subjectivity=0.0)\n",
      "RT @1rmfs: Retweeted Mohd Najib Tun Razak (@NajibRazak):\n",
      "\n",
      "Buat kali pertama dalam sejarah Malaysia kita beri bantuan bulanan 3 bulan RM200…\n",
      "Sentiment(polarity=0.55, subjectivity=0.65)\n",
      "RT @NajibRazak: Najib Razak: Malaysia's Political Survivor. Watch the full Interview between Prime Minister Dato' Sri Najib Razak and Bloom…\n",
      "Sentiment(polarity=0.0, subjectivity=0.0)\n",
      "RT @translatorbali: KUALA LUMPUR: Saudi Arabian Oil Company (Saudi Aramco) invested US$7 billion or close to RM30 billion in Malaysia befor…\n",
      "Sentiment(polarity=0.175, subjectivity=0.325)\n",
      "Malaysia: Najib Resorts to Murder – Thugs Tried to Assassinate Tun M – Authorities Fail to Investigate Crime – Nice… https://t.co/HgR1uHNEkz\n",
      "Sentiment(polarity=0.0, subjectivity=0.0)\n",
      "KUALA LUMPUR: Saudi Arabian Oil Company (Saudi Aramco) invested US$7 billion or close to RM30 billion in Malaysia b… https://t.co/1yi1z0h029\n",
      "Sentiment(polarity=-0.5, subjectivity=0.29999999999999993)\n",
      "RT @NajibRazak: Read YAB PM Najib Razak's interview with Bloomberg on elections, the economy, and Malaysia's future - Admin\n",
      "\n",
      "https://t.co/s…\n",
      "Sentiment(polarity=0.0, subjectivity=0.0)\n",
      "RT @BarnaBing: 1MDB scandal deep investigation on Najib Razak and his gang connection           around the world ! Global law enforcement w…\n",
      "Sentiment(polarity=0.0, subjectivity=0.125)\n"
     ]
    }
   ],
   "source": [
    "from pandas import DataFrame\n",
    "for tweet in public_tweets:\n",
    "    tweet_text = tweet.text\n",
    "    analysis_sentiment = analysis.sentiment\n",
    "    print(tweet_text)\n",
    "    analysis = TextBlob(tweet.text)\n",
    "    print(analysis_sentiment)\n",
    "    \n"
   ]
  },
  {
   "cell_type": "code",
   "execution_count": 27,
   "metadata": {},
   "outputs": [],
   "source": [
    "   "
   ]
  },
  {
   "cell_type": "code",
   "execution_count": null,
   "metadata": {},
   "outputs": [],
   "source": []
  }
 ],
 "metadata": {
  "kernelspec": {
   "display_name": "Python 3",
   "language": "python",
   "name": "python3"
  },
  "language_info": {
   "codemirror_mode": {
    "name": "ipython",
    "version": 3
   },
   "file_extension": ".py",
   "mimetype": "text/x-python",
   "name": "python",
   "nbconvert_exporter": "python",
   "pygments_lexer": "ipython3",
   "version": "3.6.5"
  }
 },
 "nbformat": 4,
 "nbformat_minor": 2
}
